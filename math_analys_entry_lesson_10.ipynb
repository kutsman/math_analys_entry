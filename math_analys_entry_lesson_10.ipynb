{
 "cells": [
  {
   "cell_type": "markdown",
   "id": "1c5ec6b8",
   "metadata": {},
   "source": [
    "### 1. Исследовать ряд на сходимость, используя признак д’Аламбера:\n",
    "\n",
    "$\\sum_{n=1}^{∞}\\frac{n^n}{(n!)^2}$"
   ]
  },
  {
   "cell_type": "markdown",
   "id": "4ae8c5d6",
   "metadata": {},
   "source": [
    "Признаки сходимости знакопостоянного числового ряда можно разделить на необходимый и достаточные.\n",
    "<br>Необходимый признак сходимости состоит в том, что: $lim_{n→∞}u_n=0$\n",
    "<br>Если этот признак не выполняется, то ряд расходится.\n",
    "\n",
    "<br>Признак д'Аламбера:\n",
    "\n",
    "<br>$lim_{n→∞}\\frac{u_{n+1}}{u_n}=q$, то\n",
    "$\\begin{cases}\n",
    "q<1, сходится  \\\\\n",
    "q>1, расходится \n",
    "\\end{cases}$\n",
    "<br>при $q=1$ неопределенность"
   ]
  },
  {
   "cell_type": "markdown",
   "id": "afc4790d",
   "metadata": {},
   "source": [
    "$lim_{n→∞}\\frac{u_{n+1}}{u_n}= lim_{n→∞}\\frac{(n+1)^{n+1}}{(n+1)!^2} \\cdot \\frac{n!^2}{n^n}=lim_{n→∞}\\frac{(n+1)^n (n+1)}{(n+1)!^2} \\cdot \\frac{n!^2}{n^n}=lim_{n→∞}\\frac{(n+1)^n (n+1)}{n!^2(n+1)^2} \\cdot \\frac{n!^2}{n^n}=lim_{n→∞}\\frac{(n+1)^n}{n+1} \\cdot \\frac{1}{n^n}=lim_{n→∞}\\frac{(n+1)^n}{n^n} \\cdot \\frac{1}{n+1}=lim_{n→∞}\\frac{(n+1)^n}{n^n} \\cdot lim_{n→∞}\\frac{1}{n+1}=e\\cdot 0 = 0$\n",
    "<br>Ответ: ряд $\\sum_{n=1}^{∞}\\frac{n^n}{(n!)^2}$ сходится."
   ]
  },
  {
   "cell_type": "markdown",
   "id": "d7fc59ab",
   "metadata": {},
   "source": [
    "### 2. Исследовать ряд на сходимость, используя радикальный признак Коши:\n",
    "$\\sum_{n=1}^{∞}\\frac{n}{2^n}$"
   ]
  },
  {
   "cell_type": "markdown",
   "id": "39280749",
   "metadata": {},
   "source": [
    "Радикальный признак Коши:\n",
    "\n",
    "<br>Если $lim_{n→∞}\\sqrt[n]{u_n}=q$, то\n",
    "$\\begin{cases}\n",
    "q<1, сходится  \\\\\n",
    "q>1, расходится \n",
    "\\end{cases}$\n",
    "<br>при $q=1$ неопределенность"
   ]
  },
  {
   "cell_type": "markdown",
   "id": "dfcea981",
   "metadata": {},
   "source": [
    "$\\sum_{n→∞}\\sqrt[n]{\\frac{n}{2^n}}=\\frac{sum_{n→∞}\\sqrt[n]{n}}{sum_{n→∞}\\sqrt[n]{2^n}}=\\frac{1}{2}$\n",
    "<br>Ответ: ряд $\\sum_{n=1}^{∞}\\frac{n}{2^n}$ сходится"
   ]
  },
  {
   "cell_type": "markdown",
   "id": "1d25df57",
   "metadata": {},
   "source": [
    "### 3. Исследовать ряд на сходимость, используя признак Лейбница:\n",
    "$\\sum_{n=1}^{∞}\\frac{(-1)^n}{n+ln(n)}$"
   ]
  },
  {
   "cell_type": "markdown",
   "id": "a2e3987a",
   "metadata": {},
   "source": [
    "Признак Лейбница: \n",
    "<br>Если члены знакочередующегося ряда монотонно убывают по модулю, то ряд сходится.\n",
    "<br>Или в два пункта:\n",
    "<br>1) Ряд является знакочередующимся.\n",
    "<br>2) Члены ряда убывают по модулю: $lim_{n→∞}|a_n| = 0$, причём, убывают монотонно."
   ]
  },
  {
   "cell_type": "markdown",
   "id": "068acdc8",
   "metadata": {},
   "source": [
    "Так как в ряде есть $(-1)^n$, значит при четных и нечетных $n$ ряд будет со знаком минус и плюс, т.е. знакочередующийся. Первое условие - выполнено.\n",
    "\n",
    "$lim_{n→∞}\\frac{(-1)^n}{n+ln(n)}=lim_{n→∞}\\frac{(-1)^n}{n(1+\\frac{ln(n)}{n})}=lim_{n→∞}\\frac{  \\frac{(-1)^n}{n}   }{1+\\frac{ln(n)}{n}}=\\frac{lim_{n→∞}\\frac{(-1)^n}{n}}{lim_{n→∞}(1+\\frac{ln(n)}{n})}=\\frac{0}{1} = 0$ члены ряда убывают по модулю\n",
    "\n",
    "<br>$lim_{n→∞}\\frac{(-1)^n}{n} = 0$\n",
    "<br>$lim_{n→∞}(1+\\frac{ln(n)}{n})=1$\n",
    "\n",
    "<br>Ответ: ряд $\\sum_{n=1}^{∞}\\frac{(-1)^n}{n+ln(n)}$ сходится"
   ]
  },
  {
   "cell_type": "markdown",
   "id": "a87a403c",
   "metadata": {},
   "source": [
    "### 4. Исследовать ряд на сходимость, используя признак Раабе:\n",
    "$\\sum_{n=1}^{∞}\\frac{3^n}{2^n}$"
   ]
  },
  {
   "cell_type": "markdown",
   "id": "afdaa014",
   "metadata": {},
   "source": [
    "Признак сходимости Раабе:\n",
    "<br>Если $lim_{n→∞}n(\\frac{u_n}{u_{n+1}}-1)=q$, то\n",
    "$\\begin{cases}\n",
    "q<1, расходится,причём \\spaceполученное \\spaceзначение  \\spaceможет \\spaceбыть \\spaceнулевым \\spaceили \\spaceотрицательным \\\\\n",
    "q>1, сходится, и \\space при\\space q=\\infty \n",
    "\\end{cases}$"
   ]
  },
  {
   "cell_type": "markdown",
   "id": "224223af",
   "metadata": {},
   "source": [
    "$lim_{n→∞}n(\\frac{\\frac{3^n}{2^n}}{\\frac{3^{n+1}}{2^{n+1}}}-1)=lim_{n→∞}n(\\frac{\\frac{3^n}{2^n}}{\\frac{3^n3}{2^n2}}-1)=lim_{n→∞}n(\\frac{3^n2^n2}{2^n3^n3}-1)=lim_{n→∞}n(\\frac{2}{3}-1)=lim_{n→∞}n(\\frac{2}{3}-1)=-\\infty$\n",
    "\n",
    "<br> Ряд расходится"
   ]
  },
  {
   "cell_type": "markdown",
   "id": "8c9735c8",
   "metadata": {},
   "source": [
    "### 5. Разложить функцию по Тейлору в единице:\n",
    "$f(x)=ln(16x^2)$"
   ]
  },
  {
   "cell_type": "markdown",
   "id": "64386cb5",
   "metadata": {},
   "source": [
    "Если функция f(x) имеет на некотором интервале, содержащем точку а, производные всех порядков, то к ней может быть применена формула Тейлора:\n",
    "<br>$f(x)=f(a)+\\frac{f'(a)}{1!}(x-a)+\\frac{f''(a)}{2!}(x-a)^2+\\frac{f^n(a)}{n!}(x-a)^n$"
   ]
  },
  {
   "cell_type": "markdown",
   "id": "4b31a2eb",
   "metadata": {},
   "source": [
    "$f(1) = ln(16)$\n",
    "<br>$f'(x) = \\frac{2}{x}$\n",
    "<br>$f'(1)=2$\n",
    "\n",
    "<br>$f''(x)=-\\frac{2}{x^2}$\n",
    "<br>$f''(1)=-2$\n",
    "\n",
    "<br>$f'''(x)=\\frac{4}{x^3}$\n",
    "<br>$f'''(1)=4$\n",
    "\n",
    "<br>Далее подставим в формулу:\n",
    "\n",
    "<br>$f(x)=ln16+\\frac{2}{1!}(x-1)+\\frac{-2}{2!}(x-1)^2+\\frac{4}{3!}(x-1)^3+...$"
   ]
  },
  {
   "cell_type": "markdown",
   "id": "fbda657d",
   "metadata": {},
   "source": [
    "### 6. Дана функция: $f(x)=x^2$:\n",
    "<br>1. Разложить функцию в ряд Фурье по косинусам на отрезке $x \\in [-2;0]$\n",
    "<br>2. Построить график функции и ее разложения."
   ]
  },
  {
   "cell_type": "markdown",
   "id": "b65c449f",
   "metadata": {},
   "source": [
    "Рядом Фурье функции f(x) на интервале (-π ; π) называется тригонометрический ряд вида:\n",
    "<br>$f(x) \\approx \\frac{a_0}{2}+\\sum_{n=1}^{∞}a_ncosnx+b_nsinnx$, где $a_0, a_n, b_n$ – так называемые коэффициенты Фурье.\n",
    "\n",
    "<br>Коэффициенты Фурье рассчитываются по следующим формулам:\n",
    "\n",
    "<br>$a_0= \\frac{1}{\\pi}\\int_{-\\pi}^{\\pi} f(x)dx$\n",
    "<br>$a_n= \\frac{1}{\\pi}\\int_{-\\pi}^{\\pi} f(x)cosnxdx$\n",
    "<br>$b_n= \\frac{1}{\\pi}\\int_{-\\pi}^{\\pi} f(x)sinnxdx$\n",
    "\n",
    "Говорят, что функция раскладывается в ряд Фурье на интервале $(-l;l)$:\n",
    "\n",
    "<br>$f(x) \\approx \\frac{a_0}{2}+\\sum_{n=1}^{∞}a_ncos(\\frac{\\pi}{l}nx)+b_nsin(\\frac{\\pi}{l}nx)$\n",
    "\n",
    "\n",
    "<br>$a_0= \\frac{1}{l}\\int_{-l}^{l} f(x)dx$\n",
    "<br>$a_n= \\frac{1}{l}\\int_{-l}^{l} f(x)cos(\\frac{\\pi}{l}nx)dx$\n",
    "<br>$b_n= \\frac{1}{l}\\int_{-l}^{l} f(x)sin(\\frac{\\pi}{l}nx)dx$\n",
    "\n",
    "Если $f(x)$ – четная функция, то в ее разложении участвуют только четные функции, то есть $b_n=0$.\n",
    "<br>Если $f(x)$ – нечетная функция, то в ее разложении участвуют только нечетные функции, то есть $а_n=0$\n",
    "\n",
    "Рядом Фурье функции $f(x)$ на интервале $(0;l)$ по косинусам кратных дуг называется ряд:\n",
    "\n",
    "<br>$f(x) \\approx \\frac{a_0}{2}+\\sum_{n=1}^{∞}a_ncos(\\frac{\\pi}{l}nx)$, где:\n",
    "\n",
    "<br>$a_0= \\frac{1}{l}\\int_{0}^{1} f(x)dx$\n",
    "<br>$a_n= \\frac{1}{l}\\int_{0}^{1} f(x)cos(\\frac{\\pi}{l}nx)dx$\n"
   ]
  },
  {
   "cell_type": "markdown",
   "id": "021c08ee",
   "metadata": {},
   "source": [
    "$l=2$\n",
    "\n",
    "<br>$a_0= \\frac{1}{2}\\int_{-2}^{0} x^2dx=\\frac{1}{2}[\\frac{x^3}{2}]_{-2}^0=\\frac{1}{2}[0-(-\\frac{8}{3})]=\\frac{1}{2}\\frac{8}{3}=\\frac{4}{3}$\n",
    "\n",
    "<br>$a_n= \\frac{1}{2}\\int_{-2}^{0} x^2cos(\\frac{\\pi}{2}nx)dx$\n",
    "\n",
    "<br>$\\int udv=uv-\\int vdu$, где $u=u(x), v=v(x)$"
   ]
  },
  {
   "cell_type": "markdown",
   "id": "582a8731",
   "metadata": {},
   "source": [
    "<br>$u = x^2$\n",
    "<br>$dv = cos(\\frac{\\pi}{2}nx)dx$\n",
    "\n",
    "<br>$v=sin(\\frac{\\pi nx}{2})\\frac{2}{\\pi n}$\n",
    "\n",
    "<br>$\\frac{1}{2}\\int_{-2}^{0} x^2cos(\\frac{\\pi}{2}nx)dx =\\frac{1}{2}( x^2sin(\\frac{\\pi nx}{2})\\frac{2}{\\pi n}-\\int_{-2}^0 sin(\\frac{\\pi nx}{2})\\frac{2}{\\pi n}2xdx)=\\frac{1}{2}( x^2sin(\\frac{\\pi nx}{2})\\frac{2}{\\pi n}-\\int_{-2}^0 sin(\\frac{\\pi nx}{2})\\frac{4x}{\\pi n}dx)$\n",
    "\n",
    "<br>Найдем: $\\int_{-2}^0 sin(\\frac{\\pi nx}{2})\\frac{4x}{\\pi n}dx=\\frac{4}{\\pi n}\\int_{-2}^0 xsin(\\frac{\\pi nx}{2})dx$\n",
    "\n",
    "Интегрируем с помощью подстановки:\n",
    "\n",
    "<br>$u=\\frac{\\pi nx}{2}$\n",
    "<br>$x= \\frac{2u}{\\pi n}$\n",
    "\n",
    "Тогда:\n",
    "\n",
    "<br>$\\int_{-2}^0 sin(\\frac{\\pi nx}{2})\\frac{4x}{\\pi n}dx=\\frac{4}{\\pi n}\\int_{-2}^0 xsin(\\frac{\\pi nx}{2})dx=\\frac{4}{\\pi n}\\int_{-2}^0 \\frac{4}{\\pi^2 n^2}usin(u)du=\\frac{4}{\\pi n}\\frac{4}{\\pi^2 n^2}\\int_{-2}^0 usin(u)du=\\frac{4}{\\pi n}\\frac{4}{\\pi^2 n^2}(-ucosu-\\int-cosudu)=\\frac{4}{\\pi n}\\frac{4}{\\pi^2 n^2}(-ucosu+sinu)$\n",
    "\n",
    "Подставим обратно: $u=\\frac{\\pi nx}{2}$\n",
    "\n",
    "<br>$\\frac{4}{\\pi n}\\frac{4}{\\pi^2 n^2}(-\\frac{\\pi nx}{2}cos(\\frac{\\pi nx}{2})+sin(\\frac{\\pi nx}{2}))=\\frac{16}{\\pi^3 n^3}(-\\frac{\\pi nx}{2}cos(\\frac{\\pi nx}{2})+sin(\\frac{\\pi nx}{2}))$\n",
    "\n",
    "<br>$\\frac{1}{2}\\int_{-2}^{0} x^2cos(\\frac{\\pi}{2}nx)dx =\\frac{1}{2}( x^2sin(\\frac{\\pi nx}{2})\\frac{2}{\\pi n}-\\int_{-2}^0 sin(\\frac{\\pi nx}{2})\\frac{2}{\\pi n}2xdx)=\\frac{1}{2}( x^2sin(\\frac{\\pi nx}{2})\\frac{2}{\\pi n}-\\frac{16}{\\pi^3 n^3}(-\\frac{\\pi nx}{2}cos(\\frac{\\pi nx}{2})+sin(\\frac{\\pi nx}{2})))_{-2}^0=\\frac{1}{2}( 0 - (x^2sin(\\frac{\\pi nx}{2})\\frac{2}{\\pi n}+\\frac{8x}{\\pi^2 n^2}cos(\\frac{\\pi nx}{2})-\\frac{16}{\\pi^3 n^3}sin(\\frac{\\pi nx}{2})))=\\frac{1}{2}( 0 - (-8sin(\\pi n)\\frac{1}{\\pi n}-\\frac{16}{\\pi^2 n^2}cos(\\pi n)+\\frac{16}{\\pi^3 n^3}sin(\\pi n)))=8\\frac{(-1)^n}{\\pi^2 n^2}$"
   ]
  },
  {
   "cell_type": "markdown",
   "id": "d676a0bf",
   "metadata": {},
   "source": [
    "<br>$f(x) \\approx \\frac{a_0}{2}+\\sum_{n=1}^{∞}a_ncos(\\frac{\\pi}{l}nx) \\approx \\frac{4}{3\\cdot 2}+\\sum_{n=1}^{∞}8\\frac{(-1)^n}{\\pi^2 n^2}cos(\\frac{\\pi nx}{2})$"
   ]
  },
  {
   "cell_type": "code",
   "execution_count": 1,
   "id": "bb48510a",
   "metadata": {},
   "outputs": [
    {
     "data": {
      "text/plain": [
       "<function matplotlib.pyplot.show(close=None, block=None)>"
      ]
     },
     "execution_count": 1,
     "metadata": {},
     "output_type": "execute_result"
    },
    {
     "data": {
      "image/png": "[encoded data removed]",
      "text/plain": [
       "<Figure size 640x480 with 1 Axes>"
      ]
     },
     "metadata": {},
     "output_type": "display_data"
    }
   ],
   "source": [
    "import numpy as np\n",
    "import math\n",
    "import matplotlib.pyplot as plt\n",
    "x = np.arange(-50, 50, 0.01)\n",
    "n = np.arange(0, 100, 1)\n",
    "plt.plot(x, x**2)\n",
    "plt.axhline(y=0, color='black', alpha = 0.3) \n",
    "plt.axvline(x=0,color='black', alpha = 0.3)\n",
    "plt.xlim([-20, 20])\n",
    "plt.ylim([-20,20])\n",
    "plt.grid(True)\n",
    "plt.show"
   ]
  },
  {
   "cell_type": "code",
   "execution_count": 9,
   "id": "c68b5392",
   "metadata": {},
   "outputs": [
    {
     "data": {
      "text/plain": [
       "-0.14390280247203557"
      ]
     },
     "execution_count": 9,
     "metadata": {},
     "output_type": "execute_result"
    }
   ],
   "source": [
    "2/3+(8*(-1)**n)/(np.pi**2*n**2) * np.cos(np.pi*n*0/2)"
   ]
  },
  {
   "cell_type": "code",
   "execution_count": 8,
   "id": "8b4835dd",
   "metadata": {},
   "outputs": [
    {
     "data": {
      "text/plain": [
       "1.4772361358053687"
      ]
     },
     "execution_count": 8,
     "metadata": {},
     "output_type": "execute_result"
    }
   ],
   "source": [
    "2/3+(8*(-1)**n)/(np.pi**2*n**2) * np.cos(np.pi*n*10/2)"
   ]
  },
  {
   "cell_type": "code",
   "execution_count": 4,
   "id": "99a969fc",
   "metadata": {},
   "outputs": [
    {
     "data": {
      "text/plain": [
       "<function matplotlib.pyplot.show(close=None, block=None)>"
      ]
     },
     "execution_count": 4,
     "metadata": {},
     "output_type": "execute_result"
    },
    {
     "data": {
      "image/png": "[encoded data removed]",
      "text/plain": [
       "<Figure size 640x480 with 1 Axes>"
      ]
     },
     "metadata": {},
     "output_type": "display_data"
    }
   ],
   "source": [
    "import numpy as np\n",
    "import math\n",
    "import matplotlib.pyplot as plt\n",
    "x = np.arange(-50, 50, 0.01)\n",
    "n = 1\n",
    "plt.plot(x, 2/3+(8*(-1)**n)/(np.pi**2*n**2) * np.cos(np.pi*n*x/2))\n",
    "plt.scatter(0,2/3+(8*(-1)**n)/(np.pi**2*n**2) * np.cos(np.pi*n*0/2),color='red')\n",
    "plt.scatter(10,2/3+(8*(-1)**n)/(np.pi**2*n**2) * np.cos(np.pi*n*(10)/2),color='red')\n",
    "plt.axhline(y=0, color='black', alpha = 0.3) \n",
    "plt.axvline(x=0,color='black', alpha = 0.3)\n",
    "plt.xlim([-10, 10])\n",
    "plt.ylim([-5,5])\n",
    "plt.grid(True)\n",
    "plt.show"
   ]
  },
  {
   "cell_type": "markdown",
   "id": "17ac94ab",
   "metadata": {},
   "source": [
    "### 1.1 Найти неопределенный интеграл:\n",
    "$\\int (2x^2-2x-1+sinx-cosx+lnx+e^x)dx$"
   ]
  },
  {
   "cell_type": "markdown",
   "id": "81f9af58",
   "metadata": {},
   "source": [
    "Мы знаем, что чтобы найти неопределенный интеграл нужно найти функцию от которой нужно взять производную, чтобы получилась функция под интегралом.\n",
    "<br>$(\\frac{2}{3}x^3 -x^2-x)' = 2x^2-2x-1$\n",
    "<br>$(xlnx)' = 1+lnx$ (стало быть нужно заложить сверху $-2$\n",
    "<br>$(e^x)'=e^x$\n",
    "<br>$(С)'=0$, где $C$ - некая константа\n",
    "<br>итого: $\\frac{2}{3}x^3 -x^2-2x-cosx-sinx+xlnx+e^x+С$"
   ]
  },
  {
   "cell_type": "markdown",
   "id": "f2b6f160",
   "metadata": {},
   "source": [
    "### 1.2 Найти неопределенный интеграл:\n",
    "$\\int (2x+6xz^2-5x^2y-3lnz)dx$"
   ]
  },
  {
   "cell_type": "markdown",
   "id": "39dee527",
   "metadata": {},
   "source": [
    "Так как ищем интеграл по $dx$, то $y$ и $z$ будем считать константами\n",
    "<br>$x^2+3x^2z^2-\\frac{5}{3}x^3y-3xlnz+С$"
   ]
  },
  {
   "cell_type": "markdown",
   "id": "a5a6135b",
   "metadata": {},
   "source": [
    "### 1.3 Вычислить определенный интеграл:\n",
    "$\\int_0^\\pi3x^2sin(2x)dx$"
   ]
  },
  {
   "cell_type": "markdown",
   "id": "5f809b52",
   "metadata": {},
   "source": [
    "Перепишем в виде вынеся константу $3$ за интеграл:\n",
    "<br>$3\\int_0^\\pi x^2sin(2x)dx$\n",
    "\n",
    "<br>$\\int udv=uv-\\int vdu$, где $u=u(x), v=v(x)$\n",
    "<br>$u=x^2$\n",
    "<br>$du=(x^2)'dx=2xdx$\n",
    "<br>$dv=sin(2x)dx$, $v=-\\frac{1}{2}cos2x$\n",
    "\n",
    "<br>$3[-\\frac{1}{2}cos2x \\cdot x^2- \\int -\\frac{1}{2}cos2x \\cdot 2xdx]_0^\\pi=3[\\frac{1}{2}(-cos2x \\cdot x^2- 2\\int -cos2x \\cdot xdx)]_0^{\\pi}$\n",
    "\n",
    "<br>$\\int -cos2x \\cdot xdx = -\\frac{1}{2}sin(2x) \\cdot x - \\int -\\frac{1}{2}sin(2x)dx=-\\frac{1}{2}(xsin(2x) + \\int -sin(2x)dx) =-\\frac{1}{2}(xsin(2x) + \\frac{1}{2}cos2x)$"
   ]
  },
  {
   "cell_type": "markdown",
   "id": "d3acc0f7",
   "metadata": {},
   "source": [
    "<br>$u=x$\n",
    "<br>$dv=-cos2xdx$, $v=-\\frac{1}{2}sin(2x)$\n",
    "\n",
    "$3[\\frac{1}{2}(-cos2x \\cdot x^2 +2\\frac{1}{2}(xsin(2x) + \\frac{1}{2}cos2x))]_0^{\\pi}=3[\\frac{1}{2}(-cos2x \\cdot x^2 +(xsin(2x) + \\frac{1}{2}cos2x))]_0^{\\pi}=3[\\frac{1}{2}(-cos2x \\cdot x^2 +xsin(2x) + \\frac{1}{2}cos2x)]_0^{\\pi}=3[\\frac{1}{4}(-2cos(2x) \\cdot x^2 +2xsin(2x) + cos2x)]_0^{\\pi}$\n",
    "\n",
    "Подставим $\\pi$"
   ]
  },
  {
   "cell_type": "markdown",
   "id": "50176434",
   "metadata": {},
   "source": [
    "$-2cos(2\\pi) \\cdot \\pi^2 +2\\pi sin(2\\pi) + cos2\\pi)=-2\\pi^2 +0 + 1=-2\\pi^2 + 1$\n",
    "\n",
    "<br>Подставим $0$:\n",
    "\n",
    "<br>$-2cos(2\\cdot 0) \\cdot 0 +2\\cdot 0 sin(0) + cos0 = 1$"
   ]
  },
  {
   "cell_type": "markdown",
   "id": "eebf3742",
   "metadata": {},
   "source": [
    "Итого: $3(\\frac{1}{4}(-2\\pi^2+1-1)) = 3\\frac{1}{4}(-2\\pi^2)=-3\\frac{\\pi^2}{2}$"
   ]
  },
  {
   "cell_type": "code",
   "execution_count": 5,
   "id": "820a5e85",
   "metadata": {},
   "outputs": [
    {
     "data": {
      "text/plain": [
       "-14.804406601634037"
      ]
     },
     "execution_count": 5,
     "metadata": {},
     "output_type": "execute_result"
    }
   ],
   "source": [
    "-3*(np.pi**2/2)"
   ]
  },
  {
   "cell_type": "code",
   "execution_count": 6,
   "id": "de7ed2e3",
   "metadata": {},
   "outputs": [
    {
     "name": "stdout",
     "output_type": "stream",
     "text": [
      "-14.804406601634037\n"
     ]
    }
   ],
   "source": [
    "#проверка\n",
    "from scipy import integrate\n",
    "def f(x):\n",
    "    return 3*x**2*np.sin(2*x)\n",
    "v, err = integrate.quad(f, 0, np.pi)\n",
    "print(v)"
   ]
  },
  {
   "cell_type": "code",
   "execution_count": 7,
   "id": "e355969b",
   "metadata": {},
   "outputs": [
    {
     "data": {
      "text/plain": [
       "<function matplotlib.pyplot.show(close=None, block=None)>"
      ]
     },
     "execution_count": 7,
     "metadata": {},
     "output_type": "execute_result"
    },
    {
     "data": {
      "image/png": "[encoded data removed]",
      "text/plain": [
       "<Figure size 640x480 with 1 Axes>"
      ]
     },
     "metadata": {},
     "output_type": "display_data"
    }
   ],
   "source": [
    "import numpy as np\n",
    "import math\n",
    "import matplotlib.pyplot as plt\n",
    "x = np.arange(-50, 50, 0.01)\n",
    "plt.scatter(np.pi, 0, c='red', alpha=1)\n",
    "plt.plot(x, 3*x**2*np.sin(2*x))\n",
    "plt.axhline(y=0, color='black', alpha = 0.3) \n",
    "plt.axvline(x=0,color='black', alpha = 0.3)\n",
    "plt.fill_between(x, 3*x**2*np.sin(2*x), where = (x >= 0) & (x <= np.pi))\n",
    "plt.xlim([-5, 5])\n",
    "plt.ylim([-20,20])\n",
    "plt.grid(True)\n",
    "plt.show"
   ]
  },
  {
   "cell_type": "markdown",
   "id": "6ff2a34e",
   "metadata": {},
   "source": [
    "### 1.4 Найти неопределенный интеграл:\n",
    "$\\int \\frac{1}{\\sqrt{x+1}}dx$"
   ]
  },
  {
   "cell_type": "markdown",
   "id": "849d9494",
   "metadata": {},
   "source": [
    "Перепишем в виде: $ \\int (x+1)^{-\\frac{1}{2}}dx$"
   ]
  },
  {
   "cell_type": "markdown",
   "id": "8d3a1ce2",
   "metadata": {},
   "source": [
    "Тогда получим $((x+1)^{\\frac{1}{2}})'=\\frac{1}{2}(x+1)^{\\frac{1}{2}-1}=\\frac{1}{2}(x+1)^{-\\frac{1}{2}}$\n",
    "<br>стало быть: $2 \\cdot \\frac{1}{2}(x+1)^{-\\frac{1}{2}}=2\\cdot((x+1)^{\\frac{1}{2}})'$\n",
    "<br>$\\int \\frac{1}{\\sqrt{x+1}}dx=2\\cdot(x+1)^{\\frac{1}{2}}+C$, где $C$ -некое постоянное значение"
   ]
  },
  {
   "cell_type": "code",
   "execution_count": null,
   "id": "40c85871",
   "metadata": {},
   "outputs": [],
   "source": []
  }
 ],
 "metadata": {
  "kernelspec": {
   "display_name": "Python 3 (ipykernel)",
   "language": "python",
   "name": "python3"
  },
  "language_info": {
   "codemirror_mode": {
    "name": "ipython",
    "version": 3
   },
   "file_extension": ".py",
   "mimetype": "text/x-python",
   "name": "python",
   "nbconvert_exporter": "python",
   "pygments_lexer": "ipython3",
   "version": "3.8.10"
  }
 },
 "nbformat": 4,
 "nbformat_minor": 5
}
