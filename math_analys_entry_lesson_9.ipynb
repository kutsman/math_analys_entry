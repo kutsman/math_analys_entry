{
 "cells": [
  {
   "cell_type": "markdown",
   "id": "e745e5a2",
   "metadata": {},
   "source": [
    "### 1. Найти $\\frac{dz}{dt}$, если $z=z(x;y), x=x(t), y=y(t)$:\n",
    "\n",
    "$z=x^2+y^2+xy$, \n",
    "<br>$x=asint$,\n",
    "<br>$y=acost$;"
   ]
  },
  {
   "cell_type": "markdown",
   "id": "85f59e9b",
   "metadata": {},
   "source": [
    "$\\frac{dz}{dt}= \\frac{dz}{dx}\\frac{dx}{dt}+\\frac{dz}{dy}\\frac{dy}{dt}$\n",
    "\n",
    "<br>$z(t) = a^2sin^2t+a^2cos^2t+a^2sintcost$\n",
    "<br>$z(t) = a^2(sin^2t+cos^2t)+a^2sintcost$\n",
    "<br>$z(t) = a^2+a^2sintcost$\n",
    "<br>$z(t) = a^2(1+sintcost)$\n",
    "\n",
    "<br>$\\frac{dz}{dt} = a^2cos2t$"
   ]
  },
  {
   "cell_type": "markdown",
   "id": "be528a2e",
   "metadata": {},
   "source": [
    "### 2. Для данных $z=f(x;y), x = x(u;v), y=y(u;v)$ найти $\\frac{dz}{du}, \\frac{dz}{dv}$ и $dz$:\n",
    "<br>$z=x^3+y^3$, где $x=uv, y=\\frac{u}{v}$"
   ]
  },
  {
   "cell_type": "markdown",
   "id": "c56fea43",
   "metadata": {},
   "source": [
    "$\\frac{dz}{du}=\\frac{dz}{dx}\\frac{dx}{du}+\\frac{dz}{dy}\\frac{dy}{du}$\n",
    "<br>$\\frac{dz}{dv}=\\frac{dz}{dx}\\frac{dx}{dv}+\\frac{dz}{dy}\\frac{dy}{dv}$"
   ]
  },
  {
   "cell_type": "markdown",
   "id": "95ab0dbe",
   "metadata": {},
   "source": [
    "$\\frac{dz}{dx} = 3x^2$ ; $\\frac{dz}{dy} = 3y^2$\n",
    "<br>$\\frac{dx}{du} = v$ ; $\\frac{dx}{dv} = u$\n",
    "<br>$\\frac{dy}{du} = \\frac{1}{v}$ ; $\\frac{dy}{dv} = -\\frac{u}{v^2}$"
   ]
  },
  {
   "cell_type": "markdown",
   "id": "a95b08f4",
   "metadata": {},
   "source": [
    "$\\frac{dz}{du}=3x^2v+3y^2\\frac{1}{v}$\n",
    "<br>$\\frac{dz}{dv}=3x^2u-3y^2\\frac{u}{v^2}$"
   ]
  },
  {
   "cell_type": "markdown",
   "id": "68aba7bd",
   "metadata": {},
   "source": [
    "$dz=\\frac{dz}{dx}dx+\\frac{dz}{dy}dy$\n",
    "<br><br>$dx=\\frac{dx}{du}du+\\frac{dx}{dv}dv=vdu+udv$\n",
    "<br>$dy=\\frac{dy}{du}du+\\frac{dy}{dv}dv=\\frac{du}{v}-\\frac{udv}{v^2}$\n",
    "<br><br>$dz=3x^2(vdu+udv)+3y^2(\\frac{du}{v}-\\frac{udv}{v^2})$"
   ]
  },
  {
   "cell_type": "markdown",
   "id": "e83e2264",
   "metadata": {},
   "source": [
    "$dz=3x^2vdu+3x^2udv+\\frac{3y^2du}{v}-\\frac{3y^2udv}{v^2}$\n",
    "$dz=3(x^2v+\\frac{y^2}{v})du+3(x^2u-\\frac{y^2u}{v^2})dv$"
   ]
  },
  {
   "cell_type": "markdown",
   "id": "11e6122d",
   "metadata": {},
   "source": [
    "$dz=3(u^2v^2v+\\frac{u^2}{v^2v})du+3(u^2v^2u-\\frac{u^2u}{v^2v^2})dv$\n",
    "<br>$dz=3(u^2v^3+\\frac{u^2}{v^3})du+3(u^3v^2-\\frac{u^3}{v^4})dv$"
   ]
  },
  {
   "cell_type": "markdown",
   "id": "6a7cad3e",
   "metadata": {},
   "source": [
    "### 3. Найти производные $y'(x)$ неявных функций, заданных уравнениями:\n",
    "<br>$xe^{2y}-ylnx=8$"
   ]
  },
  {
   "cell_type": "markdown",
   "id": "0534d0ef",
   "metadata": {},
   "source": [
    "<br>$xe^{2y}-ylnx-8=0$\n",
    "\n",
    "$y'=\\frac{dy}{dx}=-\\frac{F_x'(x;y)}{F_y'(x;y)}$"
   ]
  },
  {
   "cell_type": "markdown",
   "id": "b02a0d39",
   "metadata": {},
   "source": [
    "$F_x'(x;y) = e^{2y}-\\frac{y}{x}$\n",
    "<br>$F_y'(x;y) = 2xe^{2y}-lnx$, // функция $y(x)$ не определена в $0$, так как $ln(0)$ - не определен, стало быть $f_y'(x;y)\\not=0$\n",
    "<br><br>$y'=-\\frac{e^{2y}-\\frac{y}{x}}{2xe^{2y}-lnx}=\\frac{\\frac{y}{xe^{2y}}-1}{2x-\\frac{lnx}{e^{2y}}}$"
   ]
  },
  {
   "cell_type": "markdown",
   "id": "097b12dd",
   "metadata": {},
   "source": [
    "### 4. Составить уравнение касательной прямой и нормали к кривой $y = y(x)$, заданной уравнением $F(x; y) = 0$ в точке\n",
    "$M_0(x_0; y_0)$:\n",
    "<br><br>$x^3y-y^3x=6$, <br>$M_0(2;1)$"
   ]
  },
  {
   "cell_type": "markdown",
   "id": "89452c98",
   "metadata": {},
   "source": [
    "$f(x;y)=x^3y-y^3x-6$\n",
    "<br>$f(2;1)=8-2-6=0$"
   ]
  },
  {
   "cell_type": "markdown",
   "id": "28f9fbb3",
   "metadata": {},
   "source": [
    "$F_x'=3x^2y-y^3$; $F_x'(2;1)=3\\cdot4-1=11$\n",
    "<br>$F_y'=x^3-3y^2x$; $F_y'(2;1)=8-3\\cdot 1 \\cdot 2=2$\n",
    "<br><br>Уравнение касательной $(t)$: <br>$y-y_0=k(x-x_0)$\n",
    "<br>$k=y'(x_0)=-\\frac{F_x'(x;y)}{F_y'(x;y)}=-\\frac{11}{2}$\n",
    "<br>$y-1=-\\frac{11}{2}(x-2)$\n",
    "<br><br>Уравнение нормали $(n)$: <br>$y-y_0=-\\frac{1}{k}(x-x_0)$\n",
    "<br>$y-1=\\frac{2}{11}(x-2)$"
   ]
  },
  {
   "cell_type": "markdown",
   "id": "07f96f9a",
   "metadata": {},
   "source": [
    "### 5. Для данных функций найти требуемую частную прозводную или дифференциал:\n",
    "\n",
    "<br>1. $z=sinxsiny, d^2z$;\n",
    "<br>2. $z=xy+sin(x+y), \\frac{d^2z}{dx^2}$"
   ]
  },
  {
   "cell_type": "markdown",
   "id": "9c60b3e8",
   "metadata": {},
   "source": [
    "<br>1. $z=sinxsiny, d^2z$;\n",
    "\n",
    "<br>$d^2z=d(dz)=\\frac{d^2z}{dx^2}dx^2+2\\frac{d^2z}{dxdy}dxdy+\\frac{d^2z}{dy^2}dy^2$  - это дифференциал 2-го порядка, где: <br><br>$\\frac{d^2z}{dx^2}$ - 2-ая частная производная по $x$, <br><br>$\\frac{d^2z}{dy^2}$ - 2-ая частная производная по $y$, <br><br>$\\frac{d^2z}{dxdy}$ - смешанная частная производная 2-ого порядка"
   ]
  },
  {
   "cell_type": "markdown",
   "id": "19b7b056",
   "metadata": {},
   "source": [
    "$\\frac{dz}{dx}=cosxsiny$\n",
    "<br>$\\frac{d^2z}{dx^2}=\\frac{d}{dx}(cosxsiny)=-sinxsiny$\n",
    "\n",
    "<br>$\\frac{d^2z}{dxdy}=\\frac{d}{dy}(\\frac{dz}{dx})=\\frac{d}{dy}(cosxsiny)=cosxcosy$\n",
    "\n",
    "<br>$\\frac{dz}{dy}=cosysinx$\n",
    "<br>$\\frac{d^2z}{dy^2}=\\frac{d}{dy}(cosysinx)=-sinxsiny$"
   ]
  },
  {
   "cell_type": "markdown",
   "id": "871b6d75",
   "metadata": {},
   "source": [
    "<br>$d^2z=d(dz)=−sinxsinydx^2+2coscoxydxdy−sinxsinydy^2=2coscoxy\\cdot dxdy-sinxsiny(dx^2+dy^2)$"
   ]
  },
  {
   "cell_type": "markdown",
   "id": "be2698e3",
   "metadata": {},
   "source": [
    "<br>2. $z=xy+sin(x+y), \\frac{d^2z}{dx^2}$"
   ]
  },
  {
   "cell_type": "markdown",
   "id": "548b5668",
   "metadata": {},
   "source": [
    "$\\frac{dz}{dx}=y+cos(x+y)$\n",
    "<br>$\\frac{d^2z}{dx^2}=\\frac{d}{dx}(y+cos(x+y))=-sin(x+y)$"
   ]
  },
  {
   "cell_type": "code",
   "execution_count": null,
   "id": "ed7d27f9",
   "metadata": {},
   "outputs": [],
   "source": []
  }
 ],
 "metadata": {
  "kernelspec": {
   "display_name": "Python 3 (ipykernel)",
   "language": "python",
   "name": "python3"
  },
  "language_info": {
   "codemirror_mode": {
    "name": "ipython",
    "version": 3
   },
   "file_extension": ".py",
   "mimetype": "text/x-python",
   "name": "python",
   "nbconvert_exporter": "python",
   "pygments_lexer": "ipython3",
   "version": "3.8.10"
  }
 },
 "nbformat": 4,
 "nbformat_minor": 5
}
