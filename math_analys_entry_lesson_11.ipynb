{
 "cells": [
  {
   "cell_type": "markdown",
   "id": "ef92afcc",
   "metadata": {},
   "source": [
    "### 1. Решить уравнения:\n",
    "\n",
    "<br>$1. \\space y'-y=2x-3$\n",
    "<br>$2. \\space x^2y'+xy+1=0$"
   ]
  },
  {
   "cell_type": "markdown",
   "id": "3a6c570d",
   "metadata": {},
   "source": [
    "<br>$1. y'-y=2x-3$\n",
    "\n",
    "<br>$y'=2x-3+y$\n",
    "<br>$z=2x-3+y$\n",
    "<br>$z-2x+3=y$\n",
    "<br>$y' = (z-2x+3)' = z'-2$\n",
    "<br>$z'-2 = z$\n",
    "<br>$z'= z+2$\n",
    "\n",
    "<br>$\\frac{dz}{dx}= z+2$\n",
    "<br>$dz= (z+2)dx$\n",
    "\n",
    "<br>$\\frac{dz}{z+2} = dx$\n",
    "<br>$\\int \\frac{dz}{z+2} = \\int \\frac{1}{u}du=ln|u|$\n",
    "\n",
    "<br>$u=z+2$\n",
    "<br>$du=dz$\n",
    "\n",
    "<br>$ln|u|=ln|z+2|$\n",
    "\n",
    "<br>$ln|u|=ln|z+2|+C$\n",
    "<br>$ln|z+2| = x+C$\n",
    "<br>$ln|2x-3+y+2| = x+C$\n",
    "<br>$ln|2x+y-1| = x+C$\n",
    "<br>$ln|2x+y-1|-x = C$"
   ]
  },
  {
   "cell_type": "markdown",
   "id": "db0cd73a",
   "metadata": {},
   "source": [
    "<br>$2. \\space x^2y'+xy+1=0$\n",
    "\n",
    "<br>$y=uv$\n",
    "<br>$y' = u'v+uv'$\n",
    "\n",
    "<br>$x^2(u'v+uv')+uvx+1=0$\n",
    "<br>$x^2u'v+x^2uv'+uvx+1=0$\n",
    "<br>$x^2u'v+u(x^2v'+vx)+1=0$\n",
    "<br>$x^2u'v+1+u(x^2v'+vx)=0$\n",
    "\n",
    "Тогда:\n",
    "\n",
    "<br>$x^2u'v+1=0$\n",
    "<br>$u(x^2v'+vx)=0$\n",
    "\n",
    "<br>$x^2v'+vx=0$\n",
    "<br>$x^2v'=-vx$\n",
    "<br>$xv'=-v$\n",
    "<br>$v'=-\\frac{v}{x}$\n",
    "<br>$\\frac{dv}{dx}=-\\frac{v}{x}$\n",
    "<br>$\\frac{dv}{v}=-\\frac{1}{x}dx$\n",
    "\n",
    "<br>$\\int \\frac{dv}{v}=\\int-\\frac{1}{x}dx$\n",
    "\n",
    "<br>$lnv=-lnx$\n",
    "<br>$v=\\frac{1}{x}$\n",
    "\n",
    "<br>$x^2u'v+1=0$\n",
    "<br>$x^2u'\\frac{1}{x}+1=0$\n",
    "<br>$xu'+1=0$\n",
    "\n",
    "<br>$u'=-\\frac{1}{x}$\n",
    "\n",
    "<br>$u=\\int -\\frac{1}{x}dx=-ln(x)+C=C-lnx$\n",
    "\n",
    "<br>$y=\\frac{C-lnx}{x}$"
   ]
  },
  {
   "cell_type": "markdown",
   "id": "e3e50545",
   "metadata": {},
   "source": [
    "### 2. Исследовать ряд на сходимость:\n",
    "\n",
    "<br>$1. \\sum_{n=1}^{\\infty} \\frac{n+2}{n^2+n+1}$\n",
    "<br>$2. \\sum_{n=1}^{\\infty} \\frac{n^n}{n!}$\n",
    "<br>$3. \\sum_{n=1}^{\\infty} n (1-\\frac{1}{n})^{n^2}$\n",
    "<br>$4. \\sum_{n=1}^{\\infty} \\frac{(-1)^{n+1}}{2n-lnn}$\n",
    "<br>$5. \\sum_{n=1}^{\\infty} \\frac{(x-2)^{n+1}}{3^n(n+2)}$"
   ]
  },
  {
   "cell_type": "markdown",
   "id": "1c1f5121",
   "metadata": {},
   "source": [
    "<br>$1. \\sum_{n=1}^{\\infty} \\frac{n+2}{n^2+n+1}$"
   ]
  },
  {
   "cell_type": "markdown",
   "id": "36703245",
   "metadata": {},
   "source": [
    "Для признака сравнения в качестве ряда $\\sum_{n=1}^{\\infty}v_n$ часто используется $\\sum_{n=1}^{\\infty}\\frac{A}{n^{\\alpha}}$, который при:\n",
    "\n",
    "$\\begin{cases}\n",
    "\\alpha >1, сходится  \\\\\n",
    "\\alpha \\le 1, расходится \n",
    "\\end{cases}$\n",
    "<br>$A$ - константа"
   ]
  },
  {
   "cell_type": "markdown",
   "id": "745c0400",
   "metadata": {},
   "source": [
    "<br>$\\lim_{n→∞}\\frac{n+2}{n^2+n+1} \\ge \\lim_{n→∞} \\frac{n}{n^2}=\\lim_{n→∞} \\frac{1}{n}$\n",
    "\n",
    "<br>Поскольку $α=1≤1$ то ряд расходится."
   ]
  },
  {
   "cell_type": "markdown",
   "id": "e35202c9",
   "metadata": {},
   "source": [
    "<br>Признак д'Аламбера:\n",
    "\n",
    "<br>$lim_{n→∞}\\frac{u_{n+1}}{u_n}=q$, то\n",
    "$\\begin{cases}\n",
    "q<1, сходится  \\\\\n",
    "q>1, расходится \n",
    "\\end{cases}$\n",
    "<br>при $q=1$ неопределенность"
   ]
  },
  {
   "cell_type": "markdown",
   "id": "97d6a2e2",
   "metadata": {},
   "source": [
    "<br>$\\lim_{n→∞}\\frac{n+1+2}{(n+1)^2+n+1+1} \\cdot \\frac{n^2+n+1}{n+2} = \\lim_{n→∞}\\frac{n+3}{n+2} \\cdot \\frac{n^2+n+1}{(n+1)^2+n+2}=\\lim_{n→∞}\\frac{n+3}{n+2} \\cdot \\frac{n^2+n+1}{n^2+2n+1+n+2}=\\lim_{n→∞}\\frac{n+3}{n+2} \\cdot \\frac{n^2+n+1}{n^2+3n+3}=\\lim_{n→∞}\\frac{n+3}{n+2} \\cdot \\frac{(n+2)^2-3n-3}{(n+3)^2-3n-6}=\\lim_{n→∞}\\frac{n+3}{n+2}\\cdot \\frac{1-\\frac{-3n-3}{(n+2)^2}}{1- \\frac{-3n-6}{(n+3)^2}}=1$\n",
    "\n",
    "<br>Ряд расходится"
   ]
  },
  {
   "cell_type": "markdown",
   "id": "d85c4cbc",
   "metadata": {},
   "source": [
    "<br>$2. \\sum_{n=1}^{\\infty} \\frac{n^n}{n!}$"
   ]
  },
  {
   "cell_type": "markdown",
   "id": "cdfb03e4",
   "metadata": {},
   "source": [
    "<br>$lim_{n→∞}\\frac{u_{n+1}}{u_n}= lim_{n→∞}\\frac{(n+1)^{n+1}}{(n+1)!} \\cdot \\frac{n!}{n^n}=lim_{n→∞}\\frac{(n+1)^n (n+1)}{(n+1)!} \\cdot \\frac{n!}{n^n}=lim_{n→∞}\\frac{(n+1)^n (n+1)}{n!(n+1)} \\cdot \\frac{n!}{n^n}=lim_{n→∞}\\frac{(n+1)^n}{1} \\cdot \\frac{1}{n^n}=lim_{n→∞}\\frac{(n+1)^n}{n^n}=e$\n",
    "\n",
    "<br>Ответ: ряд $\\sum_{n=1}^{∞}\\frac{n^n}{n!}$ расходится."
   ]
  },
  {
   "cell_type": "markdown",
   "id": "564364db",
   "metadata": {},
   "source": [
    "<br>$3. \\sum_{n=1}^{\\infty} n (1-\\frac{1}{n})^{n^2}$"
   ]
  },
  {
   "cell_type": "markdown",
   "id": "cf78aadb",
   "metadata": {},
   "source": [
    "Используем свойство второго замечательного предела:\n",
    "    \n",
    "<br>$lim_{n→∞}(1+\\frac{a}{n})^{b\\cdot n}=e^{a\\cdot b}$"
   ]
  },
  {
   "cell_type": "markdown",
   "id": "cba7940c",
   "metadata": {},
   "source": [
    "Перепишем: $\\sum_{n=1}^{\\infty}ne^{-n}$\n",
    "\n",
    "Радикальный признак Коши:\n",
    "\n",
    "<br>Если $lim_{n→∞}\\sqrt[n]{u_n}=q$, то\n",
    "$\\begin{cases}\n",
    "q<1, сходится  \\\\\n",
    "q>1, расходится \n",
    "\\end{cases}$\n",
    "<br>при $q=1$ неопределенность"
   ]
  },
  {
   "cell_type": "markdown",
   "id": "94395447",
   "metadata": {},
   "source": [
    "<br>$lim_{n→∞}\\sqrt[n]{ne^{-n}}=lim_{n→∞}\\sqrt[n]{n} \\cdot lim_{n→∞}\\sqrt[n]{e^{-n}}=1\\cdot lim_{n→∞}\\sqrt[n]{e^{-n}} =e^{-1} < 1 $\n",
    "<br><br> отсюда получается, что ряд сходится."
   ]
  },
  {
   "cell_type": "markdown",
   "id": "0801e508",
   "metadata": {},
   "source": [
    "<br>$4. \\sum_{n=1}^{\\infty} \\frac{(-1)^{n+1}}{2n-lnn}$"
   ]
  },
  {
   "cell_type": "markdown",
   "id": "917d7cd7",
   "metadata": {},
   "source": [
    "Признак Лейбница: \n",
    "<br>Если члены знакочередующегося ряда монотонно убывают по модулю, то ряд сходится.\n",
    "<br>Или в два пункта:\n",
    "<br>1) Ряд является знакочередующимся.\n",
    "<br>2) Члены ряда убывают по модулю: $lim_{n→∞}|a_n| = 0$, причём, убывают монотонно."
   ]
  },
  {
   "cell_type": "markdown",
   "id": "da0f01a9",
   "metadata": {},
   "source": [
    "Так как в ряде есть $(-1)^n$, значит при четных и нечетных $n$ ряд будет со знаком минус и плюс, т.е. знакочередующийся. Первое условие - выполнено."
   ]
  },
  {
   "cell_type": "markdown",
   "id": "ca665eed",
   "metadata": {},
   "source": [
    "Каждый последующий член ряда меньше предыдущего по модулю, т.е. $\\frac{1}{2} > \\frac{1}{4-ln2} > \\frac{1}{6-ln3}$ и т.д."
   ]
  },
  {
   "cell_type": "markdown",
   "id": "db3d79a8",
   "metadata": {},
   "source": [
    "$lim_{n→∞}\\frac{(-1)^{n+1}}{2n-ln(n)}=lim_{n→∞}\\frac{(-1)^{n+1}}{n(2-\\frac{ln(n)}{n})}=lim_{n→∞}\\frac{  \\frac{(-1)^{n+1}}{n}   }{2-\\frac{ln(n)}{n}}=\\frac{lim_{n→∞}\\frac{(-1)^{n+1}}{n}}{lim_{n→∞}(2-\\frac{ln(n)}{n})}=\\frac{0}{2} = 0$ выполняется второе условие\n",
    "<br>Значит ряд сходится."
   ]
  },
  {
   "cell_type": "markdown",
   "id": "70262cb0",
   "metadata": {},
   "source": [
    "<br>$5. \\sum_{n=1}^{\\infty} \\frac{(x-2)^{n+1}}{3^n(n+2)}$"
   ]
  },
  {
   "cell_type": "markdown",
   "id": "2660a074",
   "metadata": {},
   "source": [
    "Областью сходимости степенного ряда является интервал (-R;R), где:\n",
    "\n",
    "<br>$R= lim_{n→∞}\\frac{a_n}{a_{n+1}}$"
   ]
  },
  {
   "cell_type": "markdown",
   "id": "a4532308",
   "metadata": {},
   "source": [
    "Степенной ряд в общем виде записывается следующим образом: $\\sum a_n x^n$\n",
    "где $a_n$ - формула числовых коэффициентов.\n",
    "\n",
    "<br>$a_n = \\frac{1}{3^n(n+2)}$"
   ]
  },
  {
   "cell_type": "markdown",
   "id": "95f09508",
   "metadata": {},
   "source": [
    "<br>$R= lim_{n→∞}\\frac{a_n}{a_{n+1}}= lim_{n→∞}\\frac{\\frac{1}{3^n(n+2)}}{\\frac{1}{3^{n+1}(n+3)}}=lim_{n→∞}\\frac{3^{n+1}(n+3)}{3^n(n+2)}=lim_{n→∞}\\frac{3^n\\cdot 3(n+3)}{3^n(n+2)}=lim_{n→∞}\\frac{3n+9}{n+2}=3$"
   ]
  },
  {
   "cell_type": "markdown",
   "id": "06932721",
   "metadata": {},
   "source": [
    "$x_1=x_0-x = 2-3=-1$\n",
    "<br>$x_2=x_0+x=2+3=5$"
   ]
  },
  {
   "cell_type": "markdown",
   "id": "f1fcba0b",
   "metadata": {},
   "source": [
    "Проверим сходимость в $x = -1$\n",
    "\n",
    "<br>$\\sum_{n=1}^{\\infty} \\frac{(-1-2)^{n+1}}{3^n(n+2)}=\\sum_{n=1}^{\\infty} \\frac{(-1)^{n+1}3^{n+1}}{3^n(n+2)}$"
   ]
  },
  {
   "cell_type": "markdown",
   "id": "b9d0b5f8",
   "metadata": {},
   "source": [
    "$\\sum_{n=1} \\frac{(-1)^n}{n+2}$ сходится, так как выполняются условия Лейбница"
   ]
  },
  {
   "cell_type": "markdown",
   "id": "0eca2025",
   "metadata": {},
   "source": [
    "При $x=5$ получим: $\\sum_{n=1}^{\\infty} \\frac{3^{n+1}}{3^n(n+2)}$\n",
    "\n",
    "$\\sum_{n=1}^{\\infty} \\frac{1}{n+2}$ расходится"
   ]
  },
  {
   "cell_type": "markdown",
   "id": "5788738b",
   "metadata": {},
   "source": [
    "Ряд сходится при $x \\in [-1;5)$"
   ]
  },
  {
   "cell_type": "code",
   "execution_count": null,
   "id": "0bb812be",
   "metadata": {},
   "outputs": [],
   "source": []
  }
 ],
 "metadata": {
  "kernelspec": {
   "display_name": "Python 3 (ipykernel)",
   "language": "python",
   "name": "python3"
  },
  "language_info": {
   "codemirror_mode": {
    "name": "ipython",
    "version": 3
   },
   "file_extension": ".py",
   "mimetype": "text/x-python",
   "name": "python",
   "nbconvert_exporter": "python",
   "pygments_lexer": "ipython3",
   "version": "3.8.10"
  }
 },
 "nbformat": 4,
 "nbformat_minor": 5
}
